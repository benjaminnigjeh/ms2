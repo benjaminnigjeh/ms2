{
 "cells": [
  {
   "cell_type": "code",
   "execution_count": 6,
   "metadata": {},
   "outputs": [],
   "source": [
    "from src.helper import *\n",
    "from src.CONSTANTS import *\n",
    "import matplotlib.pyplot as plt\n",
    "import wget\n",
    "import pandas as pd\n",
    "import numpy as np\n",
    "import h5py as h5\n",
    "from random import shuffle\n",
    "import tensorflow as tf\n",
    "import numpy as np\n",
    "from tensorflow.keras.layers import Input, Dense, GRU, Embedding, Multiply, Attention, Reshape\n",
    "from tensorflow.keras.models import Model\n",
    "from tensorflow.keras import backend as k\n",
    "\n",
    "\n",
    "# Download the dataset\n",
    "url = 'https://figshare.com/ndownloader/files/12506534'\n",
    "#wget.download(url)\n",
    "\n",
    "# Read the downloaded data to a dataframe\n",
    "with h5.File('D:/MS2/src/holdout_hcd.hdf5', 'r') as f:\n",
    "  KEY_ARRAY = [\"sequence_integer\", \"precursor_charge_onehot\", \"intensities_raw\"]\n",
    "  KEY_SCALAR = [\"collision_energy_aligned_normed\", \"collision_energy\"]\n",
    "  df = pd.DataFrame({key: list(f[key][...]) for key in KEY_ARRAY})\n",
    "  for key in KEY_SCALAR:\n",
    "    df[key] = f[key][...]\n",
    "\n",
    "# Add convenience columns\n",
    "# df['precursor_charge'] = df.precursor_charge_onehot.map(lambda a: a.argmax() + 1)\n",
    "# df['sequence_maxquant'] = df.sequence_integer.map(lambda s: \"\".join(PROSIT_INDEXED_ALPHABET[i] for i in s if i != 0))\n",
    "# df['sequence_length'] = df.sequence_integer.map(lambda s: np.count_nonzero(s))"
   ]
  },
  {
   "cell_type": "code",
   "execution_count": null,
   "metadata": {},
   "outputs": [],
   "source": [
    "df.to_csv('out.csv')"
   ]
  }
 ],
 "metadata": {
  "kernelspec": {
   "display_name": "ms2",
   "language": "python",
   "name": "python3"
  },
  "language_info": {
   "codemirror_mode": {
    "name": "ipython",
    "version": 3
   },
   "file_extension": ".py",
   "mimetype": "text/x-python",
   "name": "python",
   "nbconvert_exporter": "python",
   "pygments_lexer": "ipython3",
   "version": "3.10.14"
  }
 },
 "nbformat": 4,
 "nbformat_minor": 2
}
