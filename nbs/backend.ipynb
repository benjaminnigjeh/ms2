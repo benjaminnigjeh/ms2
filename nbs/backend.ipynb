{
 "cells": [
  {
   "cell_type": "code",
   "execution_count": null,
   "metadata": {},
   "outputs": [],
   "source": [
    "# import wget\n",
    "# url1 = \"https://ftp.pride.ebi.ac.uk/pride/data/archive/2017/02/PXD004732/01625b_GA1-TUM_first_pool_1_01_01-DDA-1h-R2.raw\"\n",
    "# url2 = \"https://ftp.pride.ebi.ac.uk/pride/data/archive/2017/02/PXD004732/TUM_first_pool_1_01_01_DDA-1h-R2-tryptic.zip\"\n",
    "\n",
    "# wget.download(url1)\n",
    "# wget.download(url2)"
   ]
  },
  {
   "cell_type": "code",
   "execution_count": 3,
   "metadata": {},
   "outputs": [],
   "source": [
    "from zipfile import ZipFile\n",
    "import pandas as pd\n",
    "with ZipFile(f'TUM_first_pool_1_01_01_DDA-1h-R2-tryptic.zip', 'r') as zip_file:\n",
    "  msms = pd.read_csv(zip_file.open('msms.txt'), sep='\\t')\n",
    "# Current PROSIT pipeline does not accomodate modified peptides, so we remove all of the oxidized peptides\n",
    "msms = msms[msms['Modifications'] == 'Unmodified']"
   ]
  },
  {
   "cell_type": "code",
   "execution_count": 4,
   "metadata": {},
   "outputs": [],
   "source": [
    "from fisher_py import RawFile\n",
    "raw = RawFile('01625b_GA1-TUM_first_pool_1_01_01-DDA-1h-R2.raw')\n",
    "# Get the scan numbers from the msms file and save the scan + info in a dictionary\n",
    "from fisher_py.data.business import Scan\n",
    "import numpy as np\n",
    "scan_mzs = []\n",
    "scan_ints = []\n",
    "scan_mass_analyzers = []\n",
    "scan_collison_energy = []\n",
    "for scan in msms['Scan number']:\n",
    "  raw_scan = Scan.from_file(raw._raw_file_access, scan)\n",
    "  scan_mzs.append(np.array(raw_scan.preferred_masses))\n",
    "  scan_ints.append(np.array(raw_scan.preferred_intensities))\n",
    "  scan_mass_analyzers.append(raw_scan.scan_type.split(' + ')[0])\n",
    "  frag_infos = [f.split(' ')[0] for f in raw_scan.scan_type.split('@')[1:]]\n",
    "  splits = [[i for i, g in enumerate(f) if g.isnumeric()][0] for f in frag_infos]\n",
    "  NCEs = [float(frag[split:]) for split, frag in zip(splits, frag_infos)]\n",
    "  scan_collison_energy.append(NCEs[0])"
   ]
  },
  {
   "cell_type": "code",
   "execution_count": null,
   "metadata": {},
   "outputs": [],
   "source": [
    "annotation_df = pd.DataFrame(msms[['Modified sequence', 'Charge', 'Scan number', 'Length']].values, columns=['MODIFIED_SEQUENCE', 'PRECURSOR_CHARGE', 'SCAN_NUMBER', 'PEPTIDE_LENGTH'])\n",
    "annotation_df['MZ'] = scan_mzs\n",
    "annotation_df['INTENSITIES'] = scan_ints\n",
    "annotation_df['MASS_ANALYZER'] = scan_mass_analyzers\n",
    "annotation_df['COLLISION_ENERGY'] = scan_collison_energy\n",
    "\n",
    "from spectrum_fundamentals.mod_string import maxquant_to_internal\n",
    "annotation_df['MODIFIED_SEQUENCE'] = maxquant_to_internal(annotation_df['MODIFIED_SEQUENCE'].values)\n",
    "\n",
    "from spectrum_fundamentals.annotation.annotation import annotate_spectra\n",
    "annotation = annotate_spectra(annotation_df)\n",
    "annotation"
   ]
  },
  {
   "cell_type": "code",
   "execution_count": null,
   "metadata": {},
   "outputs": [],
   "source": [
    "from src.CONSTANTS import PROSIT_ALHABET\n",
    "\n",
    "sequence_integer = [[PROSIT_ALHABET[AA] for AA in sequence] for sequence in msms['Sequence']]\n",
    "precursor_charge_onehot = pd.get_dummies(msms['Charge']).values\n",
    "collision_energy_aligned_normed = annotation_df['COLLISION_ENERGY']\n",
    "intensities_raw = annotation['INTENSITIES']\n",
    "\n",
    "df = pd.DataFrame(list(zip(sequence_integer, precursor_charge_onehot, collision_energy_aligned_normed, intensities_raw)),\n",
    "                  columns=['sequence_integer', 'precursor_charge_onehot', 'collision_energy', 'intensities_raw'])\n",
    "\n",
    "df['NCE'] = df['collision_energy']*0.0108\n",
    "print(df.head())"
   ]
  }
 ],
 "metadata": {
  "kernelspec": {
   "display_name": "ms2",
   "language": "python",
   "name": "python3"
  },
  "language_info": {
   "codemirror_mode": {
    "name": "ipython",
    "version": 3
   },
   "file_extension": ".py",
   "mimetype": "text/x-python",
   "name": "python",
   "nbconvert_exporter": "python",
   "pygments_lexer": "ipython3",
   "version": "3.10.14"
  }
 },
 "nbformat": 4,
 "nbformat_minor": 2
}
