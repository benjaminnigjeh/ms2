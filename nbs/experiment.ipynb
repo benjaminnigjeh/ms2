{
 "cells": [
  {
   "cell_type": "code",
   "execution_count": 8,
   "metadata": {},
   "outputs": [],
   "source": [
    "from src.helper import seq_int, seq_vec\n",
    "from src.CONSTANTS import *"
   ]
  },
  {
   "cell_type": "code",
   "execution_count": 10,
   "metadata": {},
   "outputs": [
    {
     "data": {
      "text/plain": [
       "{1: 'A',\n",
       " 2: 'C',\n",
       " 3: 'D',\n",
       " 4: 'E',\n",
       " 5: 'F',\n",
       " 6: 'G',\n",
       " 7: 'H',\n",
       " 8: 'I',\n",
       " 9: 'K',\n",
       " 10: 'L',\n",
       " 11: 'M',\n",
       " 12: 'N',\n",
       " 13: 'P',\n",
       " 14: 'Q',\n",
       " 15: 'R',\n",
       " 16: 'S',\n",
       " 17: 'T',\n",
       " 18: 'V',\n",
       " 19: 'W',\n",
       " 20: 'Y',\n",
       " 21: 'M(ox)'}"
      ]
     },
     "execution_count": 10,
     "metadata": {},
     "output_type": "execute_result"
    }
   ],
   "source": [
    "PROSIT_INDEXED_ALPHABET"
   ]
  }
 ],
 "metadata": {
  "kernelspec": {
   "display_name": "ms2",
   "language": "python",
   "name": "python3"
  },
  "language_info": {
   "codemirror_mode": {
    "name": "ipython",
    "version": 3
   },
   "file_extension": ".py",
   "mimetype": "text/x-python",
   "name": "python",
   "nbconvert_exporter": "python",
   "pygments_lexer": "ipython3",
   "version": "3.10.14"
  }
 },
 "nbformat": 4,
 "nbformat_minor": 2
}
