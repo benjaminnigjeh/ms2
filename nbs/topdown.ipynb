{
 "cells": [
  {
   "cell_type": "code",
   "execution_count": 2,
   "metadata": {},
   "outputs": [],
   "source": [
    "from src import *\n",
    "import matplotlib.pyplot as plt\n",
    "import wget\n",
    "import pandas as pd\n",
    "import numpy as np\n",
    "import h5py as h5\n",
    "from random import shuffle\n",
    "import tensorflow as tf\n",
    "import numpy as np\n",
    "from tensorflow.keras.layers import Input, Dense, GRU, Embedding, Multiply, Attention, Reshape\n",
    "from tensorflow.keras.models import Model\n",
    "from tensorflow.keras import backend as k\n",
    "\n",
    "\n"
   ]
  },
  {
   "cell_type": "code",
   "execution_count": 3,
   "metadata": {},
   "outputs": [],
   "source": [
    "\n",
    "# Download the dataset\n",
    "url = 'https://figshare.com/ndownloader/files/12506534'\n",
    "#wget.download(url)\n",
    "\n",
    "# Read the downloaded data to a dataframe\n",
    "with h5.File('D:/MS2/src/holdout_hcd.hdf5', 'r') as f:\n",
    "  KEY_ARRAY = [\"sequence_integer\", \"precursor_charge_onehot\", \"intensities_raw\"]\n",
    "  KEY_SCALAR = [\"collision_energy_aligned_normed\", \"collision_energy\"]\n",
    "  df = pd.DataFrame({key: list(f[key][...]) for key in KEY_ARRAY})\n",
    "  for key in KEY_SCALAR:\n",
    "    df[key] = f[key][...]\n",
    "\n",
    "\n",
    "\n",
    "\n",
    "\n"
   ]
  },
  {
   "cell_type": "code",
   "execution_count": 4,
   "metadata": {},
   "outputs": [],
   "source": [
    "new_list = []\n",
    "\n",
    "for i in range(0, len(df['sequence_integer'])):\n",
    "    new_list.append(list(df['sequence_integer'][i]) + [0]*100)"
   ]
  },
  {
   "cell_type": "code",
   "execution_count": 9,
   "metadata": {},
   "outputs": [],
   "source": [
    "df['sequence_integer1'] = new_list"
   ]
  },
  {
   "cell_type": "code",
   "execution_count": 10,
   "metadata": {},
   "outputs": [],
   "source": [
    "df['sequence_integer'] = df['sequence_integer1']"
   ]
  },
  {
   "cell_type": "code",
   "execution_count": 11,
   "metadata": {},
   "outputs": [
    {
     "name": "stdout",
     "output_type": "stream",
     "text": [
      "0         [20, 18, 18, 18, 20, 5, 15, 4, 8, 3, 17, 9, 0,...\n",
      "1         [20, 18, 18, 18, 20, 5, 15, 4, 8, 3, 17, 9, 0,...\n",
      "2         [20, 18, 18, 18, 20, 5, 15, 4, 8, 3, 17, 9, 0,...\n",
      "3         [20, 18, 18, 18, 20, 5, 15, 4, 8, 3, 17, 9, 0,...\n",
      "4         [20, 18, 18, 18, 20, 5, 15, 4, 8, 3, 17, 9, 0,...\n",
      "                                ...                        \n",
      "754210    [4, 10, 4, 15, 10, 14, 7, 8, 8, 14, 15, 0, 0, ...\n",
      "754211    [4, 10, 4, 15, 10, 14, 7, 8, 8, 14, 15, 0, 0, ...\n",
      "754212    [4, 10, 4, 15, 10, 14, 7, 8, 8, 14, 15, 0, 0, ...\n",
      "754213    [4, 10, 4, 15, 10, 14, 7, 8, 8, 14, 15, 0, 0, ...\n",
      "754214    [4, 17, 6, 10, 4, 17, 16, 16, 6, 6, 9, 10, 1, ...\n",
      "Name: sequence_integer, Length: 754215, dtype: object\n"
     ]
    }
   ],
   "source": [
    "print(df['sequence_integer'])"
   ]
  }
 ],
 "metadata": {
  "kernelspec": {
   "display_name": "backend2",
   "language": "python",
   "name": "python3"
  },
  "language_info": {
   "codemirror_mode": {
    "name": "ipython",
    "version": 3
   },
   "file_extension": ".py",
   "mimetype": "text/x-python",
   "name": "python",
   "nbconvert_exporter": "python",
   "pygments_lexer": "ipython3",
   "version": "3.10.14"
  }
 },
 "nbformat": 4,
 "nbformat_minor": 2
}
